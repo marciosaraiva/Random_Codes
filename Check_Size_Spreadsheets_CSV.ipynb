{
 "cells": [
  {
   "cell_type": "code",
   "execution_count": null,
   "metadata": {},
   "outputs": [],
   "source": [
    "import pandas as pd\n",
    "from os import walk\n",
    "\n",
    "# starts the total number of rows with a value equal to zero\n",
    "amount_of_rows = 0\n",
    "\n",
    "# the list of files to be used starts empty\n",
    "files = []\n",
    "\n",
    "#browse all files in a directory\n",
    "for (dirpath, dirnames, filenames) in walk(\"../directory address\"): \n",
    "        \n",
    "        #for each file in filenames\n",
    "        for f in filenames:\n",
    "            \n",
    "            # only .csv files () will be used\n",
    "            if \".csv\" in f:\n",
    "\n",
    "                #transforms each file into a dataframe\n",
    "                dataframe = pd.read_csv(\"../directory address/\"+f)\n",
    "\n",
    "                #adds the number of rows in each dataframe\n",
    "                amount_of_rows += dataframe.shape[0]\n",
    "\n",
    "#output of the algorithm\n",
    "print(amount_of_rows)"
   ]
  }
 ],
 "metadata": {
  "kernelspec": {
   "display_name": "Python 3",
   "language": "python",
   "name": "python3"
  },
  "language_info": {
   "codemirror_mode": {
    "name": "ipython",
    "version": 3
   },
   "file_extension": ".py",
   "mimetype": "text/x-python",
   "name": "python",
   "nbconvert_exporter": "python",
   "pygments_lexer": "ipython3",
   "version": "3.6.8"
  }
 },
 "nbformat": 4,
 "nbformat_minor": 2
}
